{
 "cells": [
  {
   "cell_type": "markdown",
   "metadata": {
    "pycharm": {
     "name": "#%% md\n"
    }
   },
   "source": [
    "# Classic models - Explorando una BD MySQL con Python y Pandas\n",
    "---"
   ]
  },
  {
   "cell_type": "markdown",
   "metadata": {
    "pycharm": {
     "name": "#%% md\n"
    }
   },
   "source": [
    "### Importando librerías necesarías"
   ]
  },
  {
   "cell_type": "code",
   "execution_count": null,
   "metadata": {
    "pycharm": {
     "name": "#%%\n"
    }
   },
   "outputs": [],
   "source": [
    "### !pip install mysql.connector  <-- NO se recomienda esta forma!\n",
    "\n",
    "# Usar mejor esta manera!\n",
    "#     Install a pip package in the current Jupyter kernel\n",
    "import sys\n",
    "!{sys.executable} -m pip install mysql.connector"
   ]
  },
  {
   "cell_type": "code",
   "execution_count": null,
   "metadata": {
    "pycharm": {
     "name": "#%%\n"
    }
   },
   "outputs": [],
   "source": [
    "import pandas as pd\n",
    "import mysql.connector"
   ]
  },
  {
   "cell_type": "markdown",
   "metadata": {
    "pycharm": {
     "name": "#%% md\n"
    }
   },
   "source": [
    "### Estableciendo la conexión a la BD en MySQL Server"
   ]
  },
  {
   "cell_type": "code",
   "execution_count": null,
   "metadata": {
    "pycharm": {
     "name": "#%%\n"
    }
   },
   "outputs": [],
   "source": [
    "# acceso a datos de user y pass de la BD\n",
    "user_name = 'root'\n",
    "user_pwd = 'admin'"
   ]
  },
  {
   "cell_type": "code",
   "execution_count": null,
   "metadata": {
    "pycharm": {
     "name": "#%%\n"
    }
   },
   "outputs": [],
   "source": [
    "# conectando a la BD ClassicModels   se puede descargar de: http://mysql.tutorial.org\n",
    "myconnection = mysql.connector.connect( host=\"localhost\",\n",
    "                                      user = user_name,\n",
    "                                      passwd = user_pwd,\n",
    "                                      db= 'classicmodels',\n",
    "                                      port = 3306)\n",
    "myconnection"
   ]
  },
  {
   "cell_type": "markdown",
   "metadata": {
    "pycharm": {
     "name": "#%% md\n"
    }
   },
   "source": [
    "### Listando las tablas de la BD"
   ]
  },
  {
   "cell_type": "code",
   "execution_count": null,
   "metadata": {
    "pycharm": {
     "name": "#%%\n"
    }
   },
   "outputs": [],
   "source": [
    "lista_tablas = pd.read_sql_query(\"SHOW TABLES FROM  classicmodels\", myconnection)\n",
    "lista_tablas"
   ]
  },
  {
   "cell_type": "markdown",
   "metadata": {
    "pycharm": {
     "name": "#%% md\n"
    }
   },
   "source": [
    "### mostrando el esquema de cada tabla"
   ]
  },
  {
   "cell_type": "code",
   "execution_count": null,
   "metadata": {
    "pycharm": {
     "name": "#%%\n"
    }
   },
   "outputs": [],
   "source": [
    "nombre_tablas = lista_tablas['Tables_in_classicmodels']\n",
    "\n",
    "for quetabla in nombre_tablas:\n",
    "    despliegue = pd.read_sql_query('DESCRIBE {}' . format(quetabla), myconnection)\n",
    "    print(\"**** Tabla: \" + quetabla)\n",
    "    print(despliegue,'\\n')\n"
   ]
  },
  {
   "cell_type": "markdown",
   "metadata": {
    "pycharm": {
     "name": "#%% md\n"
    }
   },
   "source": [
    "### Generando archivos CSV de salida por cada tabla de la BD"
   ]
  },
  {
   "cell_type": "code",
   "execution_count": null,
   "metadata": {
    "pycharm": {
     "name": "#%%\n"
    }
   },
   "outputs": [],
   "source": [
    "#Cambiar localizacion de archivo antes de usar\n",
    "path =\"C:/Users/oskr/Desktop/PythonCSV/\"\n",
    "for quetabla in nombre_tablas:\n",
    "    dataset = pd.read_sql_query('SELECT * FROM {}' . format(quetabla), myconnection)\n",
    "    print(\"**** Grabando Tabla: \" + quetabla)\n",
    "    dataset.to_csv( path + quetabla + \".csv\")\n",
    "    print(\"   ....\")\n"
   ]
  },
  {
   "cell_type": "markdown",
   "metadata": {
    "pycharm": {
     "name": "#%% md\n"
    }
   },
   "source": [
    "### Cargando los Datasets CSV como DataFrames"
   ]
  },
  {
   "cell_type": "code",
   "execution_count": null,
   "metadata": {
    "pycharm": {
     "name": "#%%\n"
    }
   },
   "outputs": [],
   "source": [
    "customers = pd.read_csv(path + \"customers.csv\")\n",
    "employees = pd.read_csv(path + \"employees.csv\")\n",
    "offices = pd.read_csv(path + \"offices.csv\")\n",
    "orders = pd.read_csv(path + \"orders.csv\")\n",
    "orderdetails = pd.read_csv(path + \"orderdetails.csv\")\n",
    "products = pd.read_csv(path + \"products.csv\")\n",
    "payments = pd.read_csv(path + \"payments.csv\")\n",
    "\n",
    "# se omite df de productlines y saldos\n",
    "\n",
    "customers.head()\n"
   ]
  },
  {
   "cell_type": "markdown",
   "metadata": {
    "pycharm": {
     "name": "#%% md\n"
    }
   },
   "source": [
    "## Explorando los datos con SQL y con DF de Pandas\n"
   ]
  },
  {
   "cell_type": "code",
   "execution_count": null,
   "metadata": {},
   "outputs": [],
   "source": [
    "customers.tail(5)"
   ]
  },
  {
   "cell_type": "markdown",
   "metadata": {
    "pycharm": {
     "name": "#%% md\n"
    }
   },
   "source": [
    "### SELECT * FROM <<tabla>>"
   ]
  },
  {
   "cell_type": "code",
   "execution_count": null,
   "metadata": {
    "pycharm": {
     "name": "#%%\n"
    }
   },
   "outputs": [],
   "source": [
    "querySQL = \"SELECT * FROM orders\"\n",
    "salidaSQL = pd.read_sql_query(querySQL, myconnection)\n",
    "salidaSQL"
   ]
  },
  {
   "cell_type": "code",
   "execution_count": null,
   "metadata": {
    "pycharm": {
     "name": "#%%\n"
    }
   },
   "outputs": [],
   "source": [
    "salidaDF = orders\n",
    "salidaDF\n"
   ]
  },
  {
   "cell_type": "markdown",
   "metadata": {
    "pycharm": {
     "name": "#%% md\n"
    }
   },
   "source": [
    "### SELECT * FROM ____ LIMIT 0,10"
   ]
  },
  {
   "cell_type": "code",
   "execution_count": null,
   "metadata": {
    "pycharm": {
     "name": "#%%\n"
    }
   },
   "outputs": [],
   "source": [
    "querySQL = \"SELECT * FROM customers LIMIT 0,10\"\n",
    "salidaSQL = pd.read_sql_query(querySQL, myconnection)\n",
    "salidaSQL"
   ]
  },
  {
   "cell_type": "code",
   "execution_count": null,
   "metadata": {
    "pycharm": {
     "name": "#%%\n"
    }
   },
   "outputs": [],
   "source": [
    "salidaDF = customers[0:10]\n",
    "salidaDF\n",
    "\n"
   ]
  },
  {
   "cell_type": "markdown",
   "metadata": {},
   "source": [
    "---\n",
    "### SELECT campo1, campo2 FROM ___"
   ]
  },
  {
   "cell_type": "code",
   "execution_count": null,
   "metadata": {
    "pycharm": {
     "name": "#%%\n"
    }
   },
   "outputs": [],
   "source": [
    "querySQL = \"SELECT customerNumber,customerName,city,country FROM customers \"\n",
    "\n",
    "salidaDF = customers[[\"customerNumber\",\"customerName\",\"city\",\"country\"]]\n",
    "salidaDF\n",
    "\n"
   ]
  },
  {
   "cell_type": "markdown",
   "metadata": {},
   "source": [
    "### SELECT __ FROM __ WHERE campo ISNULL"
   ]
  },
  {
   "cell_type": "code",
   "execution_count": null,
   "metadata": {
    "pycharm": {
     "name": "#%%\n"
    }
   },
   "outputs": [],
   "source": [
    "querySQL = \"SELECT * FROM orders WHERE comments IS NOT NULL \"\n",
    "\n",
    "\n",
    "#salidaDF = orders[orders[\"comments\"].isnull()]\n",
    "#salidaDF = orders[orders[\"comments\"].notnull()]\n",
    "salidaDF = orders[orders[\"comments\"].isna()]\n",
    "salidaDF\n",
    "\n"
   ]
  },
  {
   "cell_type": "markdown",
   "metadata": {},
   "source": [
    "### SELECT DISTINCT campo FROM tabla"
   ]
  },
  {
   "cell_type": "code",
   "execution_count": null,
   "metadata": {
    "pycharm": {
     "name": "#%%\n"
    }
   },
   "outputs": [],
   "source": [
    "# version SQL\n",
    "querySQL = \"SELECT DISTINCT productline FROM products\"\n",
    "salidaSQL = pd.read_sql_query(querySQL, myconnection)\n",
    "salidaSQL"
   ]
  },
  {
   "cell_type": "code",
   "execution_count": null,
   "metadata": {
    "pycharm": {
     "name": "#%%\n"
    }
   },
   "outputs": [],
   "source": [
    "# version Pandas\n",
    "salidaDF = products[\"productLine\"].drop_duplicates()\n",
    "salidaDF\n"
   ]
  },
  {
   "cell_type": "markdown",
   "metadata": {},
   "source": [
    "## Operaciones condicionales y LIKE\n",
    "###  SELECT ___ FROM ___ WHERE ___ BETWWEEN ___"
   ]
  },
  {
   "cell_type": "code",
   "execution_count": null,
   "metadata": {
    "pycharm": {
     "name": "#%%\n"
    }
   },
   "outputs": [],
   "source": [
    "# version SQL\n",
    "querySQL = \"SELECT * FROM ORDERS WHERE orderDate BETWEEN '2003-01-01' AND '2003-01-10'\"\n",
    "salidaSQL = pd.read_sql_query(querySQL, myconnection)\n",
    "salidaSQL"
   ]
  },
  {
   "cell_type": "code",
   "execution_count": null,
   "metadata": {
    "pycharm": {
     "name": "#%%\n"
    }
   },
   "outputs": [],
   "source": [
    "#version Pandas\n",
    "orders.head()\n",
    "salidaDF = orders[  (orders[\"orderDate\"]>='2003-01-01') & (orders[\"orderDate\"]<='2003-01-10')   ]\n",
    "salidaDF\n",
    "\n",
    "\n"
   ]
  },
  {
   "cell_type": "markdown",
   "metadata": {},
   "source": [
    "### SELECT __ FROM ___ WHERE campo LIKE 'expresion'"
   ]
  },
  {
   "cell_type": "code",
   "execution_count": null,
   "metadata": {
    "pycharm": {
     "name": "#%%\n"
    }
   },
   "outputs": [],
   "source": [
    "querySQL = \"SELECT * FROM customers WHERE customerName LIKE 'ba%'\"\n",
    "salidaSQL = pd.read_sql_query(querySQL, myconnection)\n",
    "salidaSQL"
   ]
  },
  {
   "cell_type": "code",
   "execution_count": null,
   "metadata": {
    "pycharm": {
     "name": "#%%\n"
    }
   },
   "outputs": [],
   "source": [
    "#version Pandas\n",
    "customers.head()\n",
    "salidaDF = customers[   (customers[\"customerName\"].str.startswith('Ba') )   ]   ##  cuidado es caseSensitive\n",
    "salidaDF\n",
    "\n"
   ]
  },
  {
   "cell_type": "code",
   "execution_count": null,
   "metadata": {
    "pycharm": {
     "name": "#%%\n"
    }
   },
   "outputs": [],
   "source": [
    "querySQL = \"SELECT * FROM customers WHERE customerName LIKE '%Gift%'\"\n",
    "salidaSQL = pd.read_sql_query(querySQL, myconnection)\n",
    "salidaSQL"
   ]
  },
  {
   "cell_type": "code",
   "execution_count": null,
   "metadata": {
    "pycharm": {
     "name": "#%%\n"
    }
   },
   "outputs": [],
   "source": [
    "#version Pandas\n",
    "customers.head()\n",
    "salidaDF = customers[(customers[\"customerName\"].str.contains('Gift') ) ]   ##  cuidado es caseSensitive\n",
    "salidaDF\n"
   ]
  },
  {
   "cell_type": "markdown",
   "metadata": {
    "pycharm": {
     "name": "#%% md\n"
    }
   },
   "source": [
    "### Ordenamiento de resultados"
   ]
  },
  {
   "cell_type": "code",
   "execution_count": null,
   "metadata": {
    "pycharm": {
     "name": "#%%\n"
    }
   },
   "outputs": [],
   "source": [
    "# version SQL\n",
    "querySQL = \"SELECT * FROM products ORDER BY productLine, quantityInStock DESC\"\n",
    "salidaSQL = pd.read_sql_query(querySQL, myconnection)\n",
    "salidaSQL"
   ]
  },
  {
   "cell_type": "code",
   "execution_count": null,
   "metadata": {
    "pycharm": {
     "name": "#%%\n"
    }
   },
   "outputs": [],
   "source": [
    "#version Pandas\n",
    "products.head()\n",
    "salidaDF = products.sort_values([\"productLine\",\"quantityInStock\"],ascending=False )\n",
    "salidaDF"
   ]
  },
  {
   "cell_type": "markdown",
   "metadata": {
    "pycharm": {
     "name": "#%% md\n"
    }
   },
   "source": [
    "###  Agrupamientos  GROUP BY\n",
    "--- "
   ]
  },
  {
   "cell_type": "code",
   "execution_count": null,
   "metadata": {
    "pycharm": {
     "name": "#%%\n"
    }
   },
   "outputs": [],
   "source": [
    "#version Pandas\n",
    "products.head()\n",
    "salidaDF = products.groupby(\"productLine\").size()   ### **** No se usa el .count()  ****\n",
    "salidaDF\n"
   ]
  },
  {
   "cell_type": "markdown",
   "metadata": {
    "pycharm": {
     "name": "#%% md\n"
    }
   },
   "source": [
    "### JOINs"
   ]
  },
  {
   "cell_type": "code",
   "execution_count": null,
   "metadata": {
    "pycharm": {
     "name": "#%%\n"
    }
   },
   "outputs": [],
   "source": [
    "# Hacer el INNER JOIN entre clientes y respectivos pedidos\n",
    "\n",
    "\n",
    "#con Pandas\n",
    "salidaDF = pd.merge(customers,orders,on=\"customerNumber\")\n",
    "salidaDF"
   ]
  },
  {
   "cell_type": "code",
   "execution_count": null,
   "metadata": {
    "pycharm": {
     "name": "#%%\n"
    }
   },
   "outputs": [],
   "source": [
    "#  registros de clientesypedidos con fechaEnvio NULA\n",
    "salidaDF =  salidaDF[ salidaDF[\"shippedDate\"].isnull() ]\n",
    "salidaDF\n",
    "\n",
    "\n"
   ]
  },
  {
   "cell_type": "code",
   "execution_count": null,
   "metadata": {
    "pycharm": {
     "name": "#%%\n"
    }
   },
   "outputs": [],
   "source": [
    "# myconnection.close()\n"
   ]
  },
  {
   "cell_type": "markdown",
   "metadata": {},
   "source": [
    "## Queries adicionales\n",
    "---\n",
    "\n",
    "- **Q1. Listado de datos de clientes y cantidad de pedidos.**\n",
    "```   \n",
    "     Columnas:  [CustomerNumber, CustomerName, City,Country, CantPedidos]\n",
    "```\n",
    "    \n",
    "- **Q2. Listado de productos ordenados por categoria y cantidad de piezas pedidas.**\n",
    "```\n",
    "     Columnas:  [ProductCode, ProductName, ProductLine, sumaQuantityOrdered]\n",
    "```\n",
    "    \n",
    "- **Q3. Promedio de PreciodeVenta y Cantidad de Piezas pedidas de cada uno de los productos.**\n",
    "```    \n",
    "     Columnas:  [ProductCode, ProductName, avgPrice, avgQuantityOrdered] \n",
    "```\n",
    "    \n",
    "- **Q4. Listado de datos de clientes con categorización de acuerdo a su CreditLimit.**\n",
    "```   \n",
    "     Categoría: \"Platinum\"(>=50000), \"Gold\"(>=25000<50000), \"Silver\"(>0<25000) y \"Laton\"(=0)\n",
    "     Columnas:  [CustomerNumber, CustomerName, City, Country, CreditLimit, Categoría] \n",
    "```\n",
    "        "
   ]
  },
  {
   "cell_type": "markdown",
   "metadata": {},
   "source": [
    "# Queries con SQL"
   ]
  },
  {
   "cell_type": "code",
   "execution_count": null,
   "metadata": {},
   "outputs": [],
   "source": [
    "querySQL = \"SELECT TipoCliente, customerNumber, customerName, city, country, creditLimit FROM clientesa GROUP BY TipoCliente ORDER BY 1 ASC;\"\n",
    "salidaSQL = pd.read_sql_query(querySQL, myconnection)\n",
    "salidaSQL"
   ]
  },
  {
   "cell_type": "code",
   "execution_count": null,
   "metadata": {},
   "outputs": [],
   "source": [
    "querySQL = \"select p.productCode, p.productName, p.productLine, o.quantityOrdered from products as p left join orderdetails as o on o.productCode = p.productCode order by p.productLine, o.quantityOrdered ASC;\"\n",
    "salidaSQL = pd.read_sql_query(querySQL, myconnection)\n",
    "salidaSQL"
   ]
  },
  {
   "cell_type": "code",
   "execution_count": null,
   "metadata": {},
   "outputs": [],
   "source": [
    "querySQL = \"select p.productCode, p.productName, avg(o.priceEach) as AvgPrecio, avg(o.quantityOrdered) as AvgCantidad from products as p left join orderdetails as o on o.productCode = p.productCode group by p.productName;\"\n",
    "salidaSQL = pd.read_sql_query(querySQL, myconnection)\n",
    "salidaSQL"
   ]
  },
  {
   "cell_type": "code",
   "execution_count": null,
   "metadata": {},
   "outputs": [],
   "source": [
    "querySQL = \"SELECT TipoCliente, customerNumber, customerName, city, country, creditLimit FROM clientesa GROUP BY TipoCliente ORDER BY 1 ASC;\"\n",
    "salidaSQL = pd.read_sql_query(querySQL, myconnection)\n",
    "salidaSQL"
   ]
  },
  {
   "cell_type": "markdown",
   "metadata": {},
   "source": [
    "# Queries con Pandas"
   ]
  },
  {
   "cell_type": "code",
   "execution_count": null,
   "metadata": {},
   "outputs": [],
   "source": [
    "# code of query 1\n",
    "dataframe_join = pd.merge(customers,orders,on=\"customerNumber\")\n",
    "# salidaDF = dataframe_join.groupby(\"customerNumber\").size()\n",
    "salidaDF = dataframe_join.groupby( [\"customerNumber\", \"customerName\", \"city\", \"country\"] ).size()\n",
    "salidaDF"
   ]
  },
  {
   "cell_type": "code",
   "execution_count": null,
   "metadata": {},
   "outputs": [],
   "source": [
    "query = orders[[\"customerNumber\", \"orderNumber\"]\n",
    "               ].groupby(\"customerNumber\").count()\n",
    "query = query.rename(columns={\"orderNumber\": \"CanPedidos\"})\n",
    "salidaDF = pd.merge(customers, query, on=\"customerNumber\")\n",
    "\n",
    "salidaDF[[\"customerNumber\", \"customerName\", \"city\", \"country\", \"CanPedidos\"]]\n"
   ]
  },
  {
   "cell_type": "code",
   "execution_count": null,
   "metadata": {},
   "outputs": [],
   "source": [
    "prod = products[[\"productName\", \"productCode\", \"productLine\"]]\n",
    "ordet = orderdetails[[\"productCode\", \"quantityOrdered\"]\n",
    "                     ].groupby(\"productCode\").sum(\"quantityOrdered\")\n",
    "\n",
    "salidaDF = pd.merge(prod, ordet, on=\"productCode\")\n",
    "salidaDF = salidaDF.sort_values(by=[\"productLine\", \"quantityOrdered\"])\n",
    "\n",
    "salidaDF\n"
   ]
  },
  {
   "cell_type": "code",
   "execution_count": null,
   "metadata": {},
   "outputs": [],
   "source": [
    "def get_categoria(x):\n",
    "    if x >=50000:\n",
    "        return \"Platinum\"\n",
    "    elif x >=25000 and x <50000:\n",
    "        return \"Gold\"\n",
    "    elif x >0 and x <25000:\n",
    "        return \"Silver\"\n",
    "    elif x == 0:\n",
    "        return \"Laton\"\n",
    "    \n",
    "query4 = customers\n",
    "query4[\"categoria\"] = customers[\"creditLimit\"].apply(lambda x: get_categoria)\n",
    "query4"
   ]
  },
  {
   "cell_type": "code",
   "execution_count": null,
   "metadata": {},
   "outputs": [],
   "source": [
    "prod = products[[\"productCode\", \"productName\"]]\n",
    "order = orderdetails[[\"productCode\", \"quantityOrdered\", \"priceEach\"]]\n",
    "total = order.assign(PromedioPVenta=order.quantityOrdered * order.priceEach)\n",
    "\n",
    "avg = total[[\"productCode\", \"PromedioPVenta\",\n",
    "             \"quantityOrdered\"]].groupby(\"productCode\").mean()\n",
    "avg = avg.rename(columns={\"quantityOrdered\": \"PromedioCPedida\"})\n",
    "\n",
    "salidaDF = pd.merge(prod, avg, on=\"productCode\")\n",
    "salidaDF\n"
   ]
  },
  {
   "cell_type": "code",
   "execution_count": null,
   "metadata": {},
   "outputs": [],
   "source": [
    "\n",
    "def category(row):\n",
    "    if int(row[\"creditLimit\"]) >= 50000:\n",
    "        result = \"Platinum\"\n",
    "    elif int(row[\"creditLimit\"]) >= 25000 < 50000:\n",
    "        result = \"Gold\"\n",
    "    elif int(row[\"creditLimit\"]) > 0 < 25000:\n",
    "        result = \"Silver\"\n",
    "    else:\n",
    "        result = \"Laton\"\n",
    "    return result\n",
    "\n",
    "\n",
    "customers[\"categoria\"] = customers.apply(category, axis=1)\n",
    "salidaDF = customers[[\"customerNumber\", \"customerName\",\n",
    "                      \"city\", \"country\", \"creditLimit\", \"categoria\"]]\n",
    "salidaDF\n"
   ]
  },
  {
   "cell_type": "markdown",
   "metadata": {},
   "source": [
    "### Ex 1"
   ]
  },
  {
   "cell_type": "code",
   "execution_count": null,
   "metadata": {},
   "outputs": [],
   "source": [
    "pedido = 10395\n",
    "\n",
    "query = pd.merge(products,orderdetails, on=\"productCode\")\n",
    "\n",
    "query = query[ query[\"orderNumber\"]==pedido]\n",
    "\n",
    "ordnumb = query[[\"orderNumber\",\"productLine\"]]\n",
    "\n",
    "cantidad = query.groupby(\"productLine\").count()[\"productName\"]\n",
    "\n",
    "query = query.assign(monto=query.priceEach*query.quantityOrdered).groupby(\"productLine\").sum()[[\"quantityOrdered\",\"monto\"]]\n",
    "\n",
    "basicinfo = pd.merge(query,cantidad,on=\"productLine\")\n",
    "\n",
    "result = pd.merge(basicinfo,ordnumb,on=\"productLine\").drop_duplicates()\n",
    "\n",
    "result\n"
   ]
  },
  {
   "cell_type": "code",
   "execution_count": null,
   "metadata": {},
   "outputs": [],
   "source": [
    "customerss = pd.merge(customers,orders, on = \"customerNumber\")\n",
    "\n",
    "customerss = customerss.rename(columns={\"salesRepEmployeeNumber\":\"employeeNumber\"})\n",
    "\n",
    "employeess = pd.merge(customerss,employees, on = \"employeeNumber\")\n",
    "\n",
    "resultt = pd.merge(offices,employeess,on=\"officeCode\")\n",
    "\n",
    "\n",
    "numPedidos = resultt.groupby(\"officeCode\").count()[\"country_x\"]\n",
    "numCA = employeess[employeess[\"officeCode\"]==employeess[\"officeCode\"]].drop_duplicates([\"customerNumber\"]).groupby(\"officeCode\").count()[\"shippedDate\"]\n",
    "resultt = resultt[[\"officeCode\",\"city_x\"]].drop_duplicates()\n",
    "\n",
    "query2 = pd.merge(numPedidos,numCA, on=\"officeCode\")\n",
    "query2 = query2.rename(columns={\"country_x\":\"total\",\"shippedDate\":\"numAt\"})\n",
    "\n",
    "query2 = pd.merge(query2,resultt, on =\"officeCode\")\n",
    "query2.sort_values(by=[\"total\"],ascending=False)"
   ]
  }
 ],
 "metadata": {
  "kernelspec": {
   "display_name": "Python 3.10.1 64-bit",
   "language": "python",
   "name": "python3"
  },
  "language_info": {
   "codemirror_mode": {
    "name": "ipython",
    "version": 3
   },
   "file_extension": ".py",
   "mimetype": "text/x-python",
   "name": "python",
   "nbconvert_exporter": "python",
   "pygments_lexer": "ipython3",
   "version": "3.10.1"
  },
  "vscode": {
   "interpreter": {
    "hash": "369f2c481f4da34e4445cda3fffd2e751bd1c4d706f27375911949ba6bb62e1c"
   }
  }
 },
 "nbformat": 4,
 "nbformat_minor": 4
}
